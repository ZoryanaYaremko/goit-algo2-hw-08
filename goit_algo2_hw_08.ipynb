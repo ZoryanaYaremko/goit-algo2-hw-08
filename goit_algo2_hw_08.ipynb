{
  "nbformat": 4,
  "nbformat_minor": 0,
  "metadata": {
    "colab": {
      "provenance": []
    },
    "kernelspec": {
      "name": "python3",
      "display_name": "Python 3"
    },
    "language_info": {
      "name": "python"
    }
  },
  "cells": [
    {
      "cell_type": "markdown",
      "source": [
        "# Домашнє завдання до модуля “Алгоритми оптимізації та керування ресурсами” (теми 7 та 8)"
      ],
      "metadata": {
        "id": "1YjexRICYt7e"
      }
    },
    {
      "cell_type": "markdown",
      "source": [
        "## Завдання 1. Оптимізація доступу до даних за допомогою LRU-кешу\n",
        "\n"
      ],
      "metadata": {
        "id": "K87zwUaeYt-i"
      }
    },
    {
      "cell_type": "markdown",
      "source": [
        "Крок 1. Імпорти та допоміжні функції форматування часу"
      ],
      "metadata": {
        "id": "mChDVnYFYuBG"
      }
    },
    {
      "cell_type": "code",
      "source": [
        "# Крок 1. Імпорти та хелпери\n",
        "import time\n",
        "import random\n",
        "import itertools\n",
        "from collections import OrderedDict\n",
        "from typing import List, Tuple, Iterable\n",
        "\n",
        "def pretty_seconds(sec: float) -> str:\n",
        "    \"\"\"\n",
        "    Повертає час у зручному форматі: сек (якщо >=1с) або мс, округлення для читабельності.\n",
        "    \"\"\"\n",
        "    if sec >= 1.0:\n",
        "        return f\"{sec:6.2f} c\"\n",
        "    return f\"{sec*1000:6.0f} ms\""
      ],
      "metadata": {
        "id": "yBz-nXFoZNSl"
      },
      "execution_count": 1,
      "outputs": []
    },
    {
      "cell_type": "markdown",
      "source": [
        "Крок 2. Реалізація класу LRUCache (ємність K = 1000)"
      ],
      "metadata": {
        "id": "3Am60ppGYuFB"
      }
    },
    {
      "cell_type": "code",
      "source": [
        "# Крок 2. Реалізація LRU-кешу на базі OrderedDict\n",
        "class LRUCache:\n",
        "    \"\"\"\n",
        "    Простіший LRU-кеш.\n",
        "    - Ключ: кортеж (left, right) — межі діапазону для суми.\n",
        "    - Значення: обчислена сума на цьому діапазоні.\n",
        "    \"\"\"\n",
        "    def __init__(self, capacity: int = 1000):\n",
        "        self.capacity = capacity\n",
        "        self._od = OrderedDict()\n",
        "\n",
        "    def get(self, key: Tuple[int, int]) -> int:\n",
        "        \"\"\"\n",
        "        Повертає значення з кешу або -1 у випадку промаху (miss).\n",
        "        Одночасно оновлює «свіжість» ключа (MRU).\n",
        "        \"\"\"\n",
        "        if key not in self._od:\n",
        "            return -1\n",
        "        value = self._od.pop(key)\n",
        "        self._od[key] = value  # переміщаємо в кінець як «найсвіжіший»\n",
        "        return value\n",
        "\n",
        "    def put(self, key: Tuple[int, int], value: int) -> None:\n",
        "        \"\"\"\n",
        "        Додає/оновлює значення; за переповнення — викидає найстаріший (LRU) елемент.\n",
        "        \"\"\"\n",
        "        if key in self._od:\n",
        "            self._od.pop(key)\n",
        "        elif len(self._od) >= self.capacity:\n",
        "            self._od.popitem(last=False)  # видаляємо LRU (перший)\n",
        "        self._od[key] = value\n",
        "\n",
        "    def keys(self) -> Iterable[Tuple[int, int]]:\n",
        "        \"\"\"Поточні ключі (використаємо для інвалідації).\"\"\"\n",
        "        return self._od.keys()\n",
        "\n",
        "    def delete_key(self, key: Tuple[int, int]) -> None:\n",
        "        \"\"\"Видаляє ключ, якщо він є в кеші.\"\"\"\n",
        "        if key in self._od:\n",
        "            del self._od[key]\n",
        "\n",
        "    def __len__(self):\n",
        "        return len(self._od)"
      ],
      "metadata": {
        "id": "cv45FWvtZe7V"
      },
      "execution_count": 2,
      "outputs": []
    },
    {
      "cell_type": "markdown",
      "source": [
        "Крок 3. Функція генерації запитів"
      ],
      "metadata": {
        "id": "-IS8f4poZj6M"
      }
    },
    {
      "cell_type": "code",
      "source": [
        "# Крок 3. Генерація запитів за заданою моделлю (гарячі/випадкові діапазони + рідкі оновлення)\n",
        "def make_queries(n, q, hot_pool=30, p_hot=0.95, p_update=0.03):\n",
        "    \"\"\"\n",
        "    Повертає список запитів довжини q для масиву розміру n:\n",
        "      - ~3%: (\"Update\", index, value)\n",
        "      - ~97%: (\"Range\", left, right), із яких 95% — з «гарячого» пулу\n",
        "    \"\"\"\n",
        "    hot = [(random.randint(0, n//2), random.randint(n//2, n-1)) for _ in range(hot_pool)]\n",
        "    queries = []\n",
        "    for _ in range(q):\n",
        "        if random.random() < p_update:     # ~3% — Update\n",
        "            idx = random.randint(0, n-1)\n",
        "            val = random.randint(1, 100)\n",
        "            queries.append((\"Update\", idx, val))\n",
        "        else:                               # ~97% — Range\n",
        "            if random.random() < p_hot:     # 95% — з «гарячого» пулу\n",
        "                left, right = random.choice(hot)\n",
        "            else:                           # 5% — повністю випадкові\n",
        "                left = random.randint(0, n-1)\n",
        "                right = random.randint(left, n-1)\n",
        "            queries.append((\"Range\", left, right))\n",
        "    return queries"
      ],
      "metadata": {
        "id": "YwXpSeelZkKs"
      },
      "execution_count": 3,
      "outputs": []
    },
    {
      "cell_type": "markdown",
      "source": [
        "Крок 4. Функції без кешу (range_sum_no_cache, update_no_cache)"
      ],
      "metadata": {
        "id": "MEc5mR9BZunV"
      }
    },
    {
      "cell_type": "code",
      "source": [
        "# Крок 4. Базові функції без кешування\n",
        "\n",
        "def range_sum_no_cache(array: List[int], left: int, right: int) -> int:\n",
        "    \"\"\"\n",
        "    Обчислює суму на [left, right] без кешу.\n",
        "    Важливо: уникаємо зрізів списку (які копіюють пам'ять) — беремо islice.\n",
        "    \"\"\"\n",
        "    return sum(itertools.islice(array, left, right + 1))\n",
        "\n",
        "def update_no_cache(array: List[int], index: int, value: int) -> None:\n",
        "    \"\"\"\n",
        "    Оновлює елемент у масиві без будь-якої інвалідації (бо кешу немає).\n",
        "    \"\"\"\n",
        "    array[index] = value"
      ],
      "metadata": {
        "id": "gHR26BUjZuzH"
      },
      "execution_count": 4,
      "outputs": []
    },
    {
      "cell_type": "markdown",
      "source": [
        "Крок 5. Функції з кешем (range_sum_with_cache, update_with_cache + інвалідація)"
      ],
      "metadata": {
        "id": "vTipcmGOZzkl"
      }
    },
    {
      "cell_type": "code",
      "source": [
        "# Крок 5. Функції з кешем (використовують LRUCache)\n",
        "\n",
        "def range_sum_with_cache(array: List[int], left: int, right: int, cache: LRUCache) -> int:\n",
        "    \"\"\"\n",
        "    1) Пробує взяти значення з LRU-кешу за ключем (left, right).\n",
        "    2) Якщо промах — рахує суму, кладе в кеш, повертає результат.\n",
        "    \"\"\"\n",
        "    key = (left, right)\n",
        "    cached = cache.get(key)\n",
        "    if cached != -1:\n",
        "        return cached\n",
        "    s = sum(itertools.islice(array, left, right + 1))\n",
        "    cache.put(key, s)\n",
        "    return s\n",
        "\n",
        "def update_with_cache(array: List[int], index: int, value: int, cache: LRUCache) -> None:\n",
        "    \"\"\"\n",
        "    1) Оновлює елемент масиву.\n",
        "    2) Інвалідовує ВСІ кешовані діапазони, що накривають змінений index.\n",
        "       Інвалідація — лінійний прохід по ключах кешу (за вимогою ТЗ).\n",
        "    \"\"\"\n",
        "    array[index] = value\n",
        "    to_delete = []\n",
        "    # list(...) щоб \"заморозити\" поточні ключі під час ітерації\n",
        "    for (l, r) in list(cache.keys()):\n",
        "        if l <= index <= r:\n",
        "            to_delete.append((l, r))\n",
        "    for k in to_delete:\n",
        "        cache.delete_key(k)"
      ],
      "metadata": {
        "id": "WkDxho2SZztJ"
      },
      "execution_count": 5,
      "outputs": []
    },
    {
      "cell_type": "markdown",
      "source": [
        "Крок 6. Бенчмарк: формуємо дані, запускаємо послідовність запитів без кешу і з кешем"
      ],
      "metadata": {
        "id": "mLOXaauSZ-Xm"
      }
    },
    {
      "cell_type": "code",
      "source": [
        "# Крок 6. Запуск продуктивності й коректності (XOR-агрегація результатів для чесності порівняння)\n",
        "\n",
        "def run_benchmark(n=100_000, q=50_000, seed=42, cache_capacity=1000):\n",
        "    \"\"\"\n",
        "    Створює масив, генерує запити, потім виконує:\n",
        "      - Послідовність БЕЗ кешу: заміри часу.\n",
        "      - Послідовність З кешем: заміри часу.\n",
        "    Друк підсумків у зручному вигляді + перевірка тотожності результатів (XOR).\n",
        "    \"\"\"\n",
        "    random.seed(seed)\n",
        "\n",
        "    # 1) Дані\n",
        "    array = [random.randint(1, 100) for _ in range(n)]\n",
        "    queries = make_queries(n, q)\n",
        "\n",
        "    # 2) Окремі копії масиву для кожного режиму (щоб оновлення не «змішувались»)\n",
        "    arr_no_cache = list(array)\n",
        "    arr_cache = list(array)\n",
        "\n",
        "    # 3) Без кешу\n",
        "    t0 = time.perf_counter()\n",
        "    acc_no_cache = 0  # XOR, щоб «використати» результат і уникнути оптимізацій\n",
        "    for typ, a, b in queries:\n",
        "        if typ == \"Range\":\n",
        "            acc_no_cache ^= range_sum_no_cache(arr_no_cache, a, b)\n",
        "        else:  # Update\n",
        "            update_no_cache(arr_no_cache, a, b)\n",
        "    t1 = time.perf_counter()\n",
        "    t_no = t1 - t0\n",
        "\n",
        "    # 4) З кешем\n",
        "    cache = LRUCache(cache_capacity)\n",
        "    t2 = time.perf_counter()\n",
        "    acc_cache = 0\n",
        "    for typ, a, b in queries:\n",
        "        if typ == \"Range\":\n",
        "            acc_cache ^= range_sum_with_cache(arr_cache, a, b, cache)\n",
        "        else:\n",
        "            update_with_cache(arr_cache, a, b, cache)\n",
        "    t3 = time.perf_counter()\n",
        "    t_with = t3 - t2\n",
        "\n",
        "    # 5) Перевірка коректності\n",
        "    ok = (acc_no_cache == acc_cache)\n",
        "\n",
        "    # 6) Вивід результатів\n",
        "    print(\"=== Результати (Завдання 1: LRU-кеш) ===\")\n",
        "    print(f\"Без кешу : {pretty_seconds(t_no)}\")\n",
        "    print(f\"LRU-кеш  : {pretty_seconds(t_with)}  (прискорення ×{(t_no / t_with):.2f})\")\n",
        "    print(f\"Перевірка тотожності результатів (XOR): {'OK' if ok else 'FAILED'}\")\n",
        "    print(f\"Розмір кешу після виконання: {len(cache)} ключів\")"
      ],
      "metadata": {
        "id": "l74p3eCFZ_CM"
      },
      "execution_count": 6,
      "outputs": []
    },
    {
      "cell_type": "markdown",
      "source": [
        "Крок 7. Швидка міні-перевірка (маленькі параметри) + повний прогін"
      ],
      "metadata": {
        "id": "Wqc_kQ4paIc9"
      }
    },
    {
      "cell_type": "code",
      "source": [
        "# Крок 7. Швидкий прогін + повний тест\n",
        "def quick_sanity():\n",
        "    \"\"\"\n",
        "    Невелика швидка перевірка на малих n, q — щоб миттєво побачити формат виводу.\n",
        "    \"\"\"\n",
        "    print(\"Швидка перевірка на малих параметрах (n=2_000, q=2_000)...\")\n",
        "    run_benchmark(n=2_000, q=2_000, seed=123, cache_capacity=100)\n",
        "    print(\"Готово. Запускаємо великий тест...\\n\")\n",
        "\n",
        "# ---- Запуск у Colab (спершу mini, потім full) ----\n",
        "quick_sanity()\n",
        "run_benchmark(n=100_000, q=50_000, seed=42, cache_capacity=1000)"
      ],
      "metadata": {
        "colab": {
          "base_uri": "https://localhost:8080/"
        },
        "id": "-AxjiqtpaJLe",
        "outputId": "9611bf1f-bfd3-43c7-b29f-6614f9ba3ff6"
      },
      "execution_count": 7,
      "outputs": [
        {
          "output_type": "stream",
          "name": "stdout",
          "text": [
            "Швидка перевірка на малих параметрах (n=2_000, q=2_000)...\n",
            "=== Результати (Завдання 1: LRU-кеш) ===\n",
            "Без кешу :     37 ms\n",
            "LRU-кеш  :     12 ms  (прискорення ×3.04)\n",
            "Перевірка тотожності результатів (XOR): OK\n",
            "Розмір кешу після виконання: 51 ключів\n",
            "Готово. Запускаємо великий тест...\n",
            "\n",
            "=== Результати (Завдання 1: LRU-кеш) ===\n",
            "Без кешу :  44.44 c\n",
            "LRU-кеш  :  16.18 c  (прискорення ×2.75)\n",
            "Перевірка тотожності результатів (XOR): OK\n",
            "Розмір кешу після виконання: 59 ключів\n"
          ]
        }
      ]
    },
    {
      "cell_type": "markdown",
      "source": [
        "## Завдання 2. Реалізація Rate Limiter з використанням алгоритму Sliding Window для обмеження частоти повідомлень у чаті\n"
      ],
      "metadata": {
        "id": "0N6slsEAbFsu"
      }
    },
    {
      "cell_type": "markdown",
      "source": [
        "Крок 1. Імпорти"
      ],
      "metadata": {
        "id": "UsuImtmRbFx-"
      }
    },
    {
      "cell_type": "code",
      "source": [
        "# Крок 1. Імпорти\n",
        "import time\n",
        "import random\n",
        "from collections import deque\n",
        "from typing import Dict, Deque"
      ],
      "metadata": {
        "id": "7pjx3pDKbapt"
      },
      "execution_count": 8,
      "outputs": []
    },
    {
      "cell_type": "markdown",
      "source": [
        "Крок 2. Реалізація класу SlidingWindowRateLimiter"
      ],
      "metadata": {
        "id": "BRCVLxDubdy1"
      }
    },
    {
      "cell_type": "code",
      "source": [
        "# Крок 2. Реалізація алгоритму Sliding Window\n",
        "class SlidingWindowRateLimiter:\n",
        "    \"\"\"\n",
        "    Обмеження частоти повідомлень на користувача в межах ковзного вікна.\n",
        "    - window_size: довжина вікна у секундах (за замовчуванням 10с)\n",
        "    - max_requests: скільки повідомлень дозволено у вікні (за замовчуванням 1)\n",
        "    - history: user_id -> deque з таймстемпами надсилань\n",
        "    \"\"\"\n",
        "    def __init__(self, window_size: int = 10, max_requests: int = 1):\n",
        "        self.window_size = int(window_size)\n",
        "        self.max_requests = int(max_requests)\n",
        "        self.history: Dict[str, Deque[float]] = {}\n",
        "\n",
        "    def _cleanup_window(self, user_id: str, current_time: float) -> None:\n",
        "        \"\"\"\n",
        "        Видаляє з черги користувача всі події, що вийшли за межі\n",
        "        [current_time - window_size, current_time].\n",
        "        Якщо після очищення подій не залишилось — видаляємо ключ користувача.\n",
        "        \"\"\"\n",
        "        dq = self.history.get(user_id)\n",
        "        if not dq:\n",
        "            return\n",
        "        threshold = current_time - self.window_size\n",
        "        while dq and dq[0] <= threshold:\n",
        "            dq.popleft()\n",
        "        if not dq:\n",
        "            # якщо історія спорожніла — прибираємо запис про користувача\n",
        "            del self.history[user_id]\n",
        "\n",
        "    def can_send_message(self, user_id: str) -> bool:\n",
        "        \"\"\"\n",
        "        Перевіряє, чи може користувач відправити повідомлення просто зараз.\n",
        "        Повертає True, якщо кількість подій у вікні < max_requests.\n",
        "        \"\"\"\n",
        "        now = time.time()\n",
        "        self._cleanup_window(user_id, now)\n",
        "        dq = self.history.get(user_id, deque())\n",
        "        return len(dq) < self.max_requests\n",
        "\n",
        "    def record_message(self, user_id: str) -> bool:\n",
        "        \"\"\"\n",
        "        Фіксує нове повідомлення, якщо ліміт не перевищено.\n",
        "        - Якщо можна — додає таймстемп і повертає True.\n",
        "        - Якщо не можна — нічого не записує і повертає False.\n",
        "        \"\"\"\n",
        "        now = time.time()\n",
        "        self._cleanup_window(user_id, now)\n",
        "        dq = self.history.get(user_id)\n",
        "        if dq is None:\n",
        "            dq = deque()\n",
        "            self.history[user_id] = dq\n",
        "\n",
        "        if len(dq) < self.max_requests:\n",
        "            dq.append(now)\n",
        "            return True\n",
        "        return False\n",
        "\n",
        "    def time_until_next_allowed(self, user_id: str) -> float:\n",
        "        \"\"\"\n",
        "        Скільки секунд залишилось чекати до наступного дозволеного повідомлення.\n",
        "        Якщо обмеження не діє — 0.0\n",
        "        \"\"\"\n",
        "        now = time.time()\n",
        "        self._cleanup_window(user_id, now)\n",
        "        dq = self.history.get(user_id)\n",
        "        if not dq:\n",
        "            return 0.0\n",
        "        oldest = dq[0]\n",
        "        wait = (oldest + self.window_size) - now\n",
        "        return max(0.0, wait)"
      ],
      "metadata": {
        "id": "ECcXdWuRbjRd"
      },
      "execution_count": 9,
      "outputs": []
    },
    {
      "cell_type": "markdown",
      "source": [
        "Крок 3. Демонстраційна функція з прикладу"
      ],
      "metadata": {
        "id": "dpxcdkwmbnv0"
      }
    },
    {
      "cell_type": "code",
      "source": [
        "# Крок 3. Демонстрація з умови (значення часу можуть трохи відрізнятися через випадкові затримки)\n",
        "def test_rate_limiter():\n",
        "    limiter = SlidingWindowRateLimiter(window_size=10, max_requests=1)\n",
        "\n",
        "    print(\"\\n=== Симуляція потоку повідомлень ===\")\n",
        "    for message_id in range(1, 11):\n",
        "        user_id = message_id % 5 + 1  # користувачі 1..5 по колу\n",
        "        result = limiter.record_message(str(user_id))\n",
        "        wait_time = limiter.time_until_next_allowed(str(user_id))\n",
        "        print(f\"Повідомлення {message_id:2d} | Користувач {user_id} | \"\n",
        "              f\"{'✓' if result else f'× (очікування {wait_time:.1f}с)'}\")\n",
        "        time.sleep(random.uniform(0.1, 1.0))  # невелика випадкова пауза\n",
        "\n",
        "    print(\"\\nОчікуємо 4 секунди...\")\n",
        "    time.sleep(4)\n",
        "\n",
        "    print(\"\\n=== Нова серія повідомлень після очікування ===\")\n",
        "    for message_id in range(11, 21):\n",
        "        user_id = message_id % 5 + 1\n",
        "        result = limiter.record_message(str(user_id))\n",
        "        wait_time = limiter.time_until_next_allowed(str(user_id))\n",
        "        print(f\"Повідомлення {message_id:2d} | Користувач {user_id} | \"\n",
        "              f\"{'✓' if result else f'× (очікування {wait_time:.1f}с)'}\")\n",
        "        time.sleep(random.uniform(0.1, 1.0))"
      ],
      "metadata": {
        "id": "eOW5E0cdbquE"
      },
      "execution_count": 10,
      "outputs": []
    },
    {
      "cell_type": "markdown",
      "source": [
        "Крок 4. Міні-перевірки критеріїв прийняття"
      ],
      "metadata": {
        "id": "Hv1Hjh_Pbtlt"
      }
    },
    {
      "cell_type": "code",
      "source": [
        "# Крок 4. Автоматичні перевірки критеріїв\n",
        "def run_criteria_checks():\n",
        "    limiter = SlidingWindowRateLimiter(window_size=2, max_requests=1)  # вікно коротше, щоб тести були швидкі\n",
        "    uid = \"u1\"\n",
        "\n",
        "    # 2) Перше повідомлення завжди True\n",
        "    assert limiter.can_send_message(uid) is True, \"Перше can_send_message має бути True\"\n",
        "    assert limiter.record_message(uid) is True, \"Перше record_message має бути True\"\n",
        "\n",
        "    # 1) Раніше, ніж через window_size сек — має бути False\n",
        "    assert limiter.can_send_message(uid) is False, \"Повторне can_send_message в межах вікна має бути False\"\n",
        "    assert limiter.record_message(uid) is False, \"Повторне record_message в межах вікна має бути False\"\n",
        "    t_wait = limiter.time_until_next_allowed(uid)\n",
        "    assert t_wait > 0.0, \"time_until_next_allowed має показувати позитивний час очікування\"\n",
        "\n",
        "    # Чекаємо, щоб подія вийшла з вікна\n",
        "    time.sleep(limiter.time_until_next_allowed(uid) + 0.05)\n",
        "\n",
        "    # 3) Після очищення вікна запис про користувача має зникнути\n",
        "    # (це перевіримо непрямо: відправимо знову — повинно бути True, і в history створиться нова черга)\n",
        "    assert limiter.record_message(uid) is True, \"Після очікування повідомлення має дозволятись\"\n",
        "    assert uid in limiter.history and len(limiter.history[uid]) == 1, \"Історія має містити 1 новий запис\"\n",
        "\n",
        "    # Ще раз дочекаємось очищення та перевіримо, що запис видаляється зі структури\n",
        "    time.sleep(limiter.time_until_next_allowed(uid) + limiter.window_size + 0.05)\n",
        "    # викличемо cleanup непрямо\n",
        "    _ = limiter.can_send_message(uid)\n",
        "    assert uid not in limiter.history, \"Порожній користувач має бути видалений з history\"\n",
        "\n",
        "    print(\"Усі критерії прийняття пройдені.\")"
      ],
      "metadata": {
        "id": "gP-dVUgYb0MO"
      },
      "execution_count": 12,
      "outputs": []
    },
    {
      "cell_type": "markdown",
      "source": [
        "Крок 5. Запуск"
      ],
      "metadata": {
        "id": "9BijIFqJb_ZN"
      }
    },
    {
      "cell_type": "code",
      "source": [
        "# Крок 5. Запуск перевірок та демо\n",
        "run_criteria_checks()\n",
        "test_rate_limiter()"
      ],
      "metadata": {
        "colab": {
          "base_uri": "https://localhost:8080/"
        },
        "id": "WVzxG_SBcHUl",
        "outputId": "8c32c09b-1841-4c06-ebe9-b04fc0afa122"
      },
      "execution_count": 13,
      "outputs": [
        {
          "output_type": "stream",
          "name": "stdout",
          "text": [
            "Усі критерії прийняття пройдені.\n",
            "\n",
            "=== Симуляція потоку повідомлень ===\n",
            "Повідомлення  1 | Користувач 2 | ✓\n",
            "Повідомлення  2 | Користувач 3 | ✓\n",
            "Повідомлення  3 | Користувач 4 | ✓\n",
            "Повідомлення  4 | Користувач 5 | ✓\n",
            "Повідомлення  5 | Користувач 1 | ✓\n",
            "Повідомлення  6 | Користувач 2 | × (очікування 7.3с)\n",
            "Повідомлення  7 | Користувач 3 | × (очікування 7.3с)\n",
            "Повідомлення  8 | Користувач 4 | × (очікування 7.7с)\n",
            "Повідомлення  9 | Користувач 5 | × (очікування 7.2с)\n",
            "Повідомлення 10 | Користувач 1 | × (очікування 6.9с)\n",
            "\n",
            "Очікуємо 4 секунди...\n",
            "\n",
            "=== Нова серія повідомлень після очікування ===\n",
            "Повідомлення 11 | Користувач 2 | × (очікування 0.4с)\n",
            "Повідомлення 12 | Користувач 3 | × (очікування 0.2с)\n",
            "Повідомлення 13 | Користувач 4 | × (очікування 0.9с)\n",
            "Повідомлення 14 | Користувач 5 | × (очікування 0.8с)\n",
            "Повідомлення 15 | Користувач 1 | × (очікування 1.2с)\n",
            "Повідомлення 16 | Користувач 2 | ✓\n",
            "Повідомлення 17 | Користувач 3 | ✓\n",
            "Повідомлення 18 | Користувач 4 | ✓\n",
            "Повідомлення 19 | Користувач 5 | ✓\n",
            "Повідомлення 20 | Користувач 1 | ✓\n"
          ]
        }
      ]
    }
  ]
}